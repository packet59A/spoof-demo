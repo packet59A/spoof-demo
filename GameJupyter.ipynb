{
 "cells": [
  {
   "cell_type": "markdown",
   "id": "833a3133",
   "metadata": {},
   "source": [
    "## Spoof"
   ]
  },
  {
   "cell_type": "markdown",
   "id": "5ad70e06",
   "metadata": {},
   "source": [
    "#### Game Rules:\n",
    "- 2 Player turn based game\n",
    "- At the start of the game a random number of coins are placed on the board. (No limit)\n",
    "- Player 1 starts by taking 1/2/3 coins (Max 3 coins per turn)\n",
    "- Player 2 takes 1/2/3 coins (Max 3 coins per turn)\n",
    "- Last player to take the last coin on the board loses the game\n",
    "\n",
    "#### Game Run Example:\n",
    "- 8 coins are placed on the board\n",
    "- Player 1 takes 3 coins; leaving 5\n",
    "- Player 2 takes 1 coin; leaving 4\n",
    "- Player 1 takes 3 coins; leaving only 1\n",
    "- Player 2 is forced to take the last coin and loses"
   ]
  },
  {
   "cell_type": "code",
   "execution_count": 2,
   "id": "8e6d6f81",
   "metadata": {},
   "outputs": [],
   "source": [
    "#List of libraries used\n",
    "import time\n",
    "import random\n",
    "import numpy as np\n",
    "import pandas as pd\n",
    "import matplotlib.pyplot as plt"
   ]
  },
  {
   "cell_type": "markdown",
   "id": "221a28ee",
   "metadata": {},
   "source": [
    "---\n",
    "title: \"Pseudocode\"\n",
    "output: html_document\n",
    "---\n",
    "\n",
    "Here we will be explaining our pseudocode to make the final algorithms, we have 2 where both have 100% a win rate."
   ]
  },
  {
   "cell_type": "markdown",
   "id": "6fe1ce27",
   "metadata": {},
   "source": [
    "The first pseudocode will be on the one mainly based on rules.\n",
    "\n",
    "final_rules.ipynb:\n",
    "```\n",
    "FUNCTION ruleBasedMove(boardCoins):\n",
    "    IF boardCoins == 2:\n",
    "        move = 1\n",
    "    ELSE IF boardCoins == 3:\n",
    "        move = 2\n",
    "    ELSE IF boardCoins == 4:\n",
    "        move = 3\n",
    "    ELSE IF boardCoins == 5:\n",
    "        move = 1\n",
    "    ELSE IF boardCoins == 6:\n",
    "        move = 1\n",
    "    ELSE IF boardCoins == 7:\n",
    "        move = 2\n",
    "    ELSE IF boardCoins BETWEEN 8 AND 11:\n",
    "        move = 1\n",
    "```\n",
    "This function will decide the player's next move based on how many coins are left on the board, these rules were written by simulating scenarios on the best possible move to not lose the game if the next player was to pick anything between 1 and 3.\n",
    "\n",
    "We wanted to force a move that made sure there was 1 coin left when there was 2 to 4 coins on the board so that the next player loses, else if it was higher we might want to make sure the whatever the next player chooses won't get us stuck on 1 coin and make us lose the game so we picked a safe option being 1.\n"
   ]
  },
  {
   "cell_type": "markdown",
   "id": "40363038",
   "metadata": {},
   "source": [
    "The second pseudocode will be on the one mainly based on the minmax algorithm we implemented.\n",
    "\n",
    "final_minmax.ipynb:\n",
    "```\n",
    "FUNCTION minmaxMove(boardCoins):\n",
    "    IF boardCoins > 11:\n",
    "        move = 3\n",
    "    \n",
    "    #To get the best possible move when comparing scores (so we start off with a bad score)\n",
    "    bestScore = -0.000000000000001\n",
    "    bestMove = None\n",
    "    \n",
    "    \n",
    "    #Loop from between 1/2/3 \n",
    "    FOR move in RANGE 1 TO 4:\n",
    "    \n",
    "        #If we have 1 or more coins remaining with the move consider it\n",
    "        IF boardCoins - move >= 1:\n",
    "        \n",
    "            #Used for stopping after going through the minmax function X times (-1 each iteration)\n",
    "            depth = 3\n",
    "            minimaxScore = minimax(futureBoardCoins, 3, 1)\n",
    "            \n",
    "            #If the score is higher than the previously stored\n",
    "            if minimaxScore > best_score:\n",
    "                bestScore = minimaxScore\n",
    "                bestMove = move\n",
    "                \n",
    "    #Return the best move found\n",
    "    RETURN bestMove \n",
    "```\n",
    "This function will decide the player's next move based on the min max algorithm by comparing all possible moves by the current player, the next player and current player again (3 depth) with the objective to win the game of reaching 1 coin remaining on the board with the move so that the opposition player will lose the game."
   ]
  },
  {
   "cell_type": "markdown",
   "id": "cda36d1d",
   "metadata": {},
   "source": [
    "final_minmax.ipynb:\n",
    "```\n",
    "FUNCTION minmax(boardCoins, depth, player):\n",
    "    #If we reached 0 depth then we just return\n",
    "    IF depth == 0 OR boardCoins == 0:\n",
    "        return boardCoins\n",
    "    \n",
    "    #Simulate the next player\n",
    "    IF player == 2:\n",
    "        bestScore = -0.000000000000001\n",
    "        \n",
    "        #Loop from between 1/2/3 \n",
    "        FOR move in RANGE 1 TO 4:\n",
    "\n",
    "            #If we have 1 or more coins remaining with the move consider it\n",
    "            IF boardCoins - move >= 1:\n",
    "                #Reduce the depth by 1\n",
    "                score = minimax(futureBoardCoins, depth-1, 1)\n",
    "                \n",
    "                #Selects the highest score out of the 2\n",
    "                bestScore = max(bestScore, score)\n",
    "                \n",
    "        #Return the best score\n",
    "        RETURN bestScore\n",
    "    \n",
    "    #Simulate the current player's move after the next player's move\n",
    "    IF player == 1:\n",
    "        bestScore = 0.000000000000001\n",
    "        \n",
    "        #Loop from between 1/2/3 \n",
    "        FOR move in RANGE 1 TO 4:\n",
    "\n",
    "            #If we have 1 or more coins remaining with the move consider it\n",
    "            IF boardCoins - move >= 1:\n",
    "                #Reduce the depth by 1\n",
    "                score = minimax(futureBoardCoins, depth-1, 1)\n",
    "                \n",
    "                #Selects the highest score out of the 2\n",
    "                bestScore = max(bestScore, score)\n",
    "                \n",
    "        #Return the best score\n",
    "        RETURN bestScore \n",
    "```\n",
    "Here we go more in depth by simulating the next player's move and the current player's move afterwards to see whats the best possible move's score and return it.\n"
   ]
  },
  {
   "cell_type": "markdown",
   "id": "950601b8",
   "metadata": {},
   "source": [
    "The first pseudocode will be on the one mainly based on rules ```final_rules.ipynb```.\n",
    "\n",
    "```\n",
    "object <- [some kind of calculation]\n",
    "```\n",
    "\n",
    "If you set `eval = FALSE` you can get the highlighted background\n",
    "\n",
    "```{r, eval = FALSE}\n",
    "object <- [some kind of calculation]\n",
    "Note that this; is not valid R code\n",
    "```\n",
    "\n",
    "You may find it interesting that your example works just fine for me.\n",
    "\n",
    "```{r, eval=FALSE}\n",
    "loop through each species\n",
    "    loop through each measurement of the current species\n",
    "    ...\n",
    "etc.\n",
    "```"
   ]
  },
  {
   "cell_type": "code",
   "execution_count": null,
   "id": "fb254897",
   "metadata": {},
   "outputs": [],
   "source": []
  }
 ],
 "metadata": {
  "kernelspec": {
   "display_name": "Python 3 (ipykernel)",
   "language": "python",
   "name": "python3"
  },
  "language_info": {
   "codemirror_mode": {
    "name": "ipython",
    "version": 3
   },
   "file_extension": ".py",
   "mimetype": "text/x-python",
   "name": "python",
   "nbconvert_exporter": "python",
   "pygments_lexer": "ipython3",
   "version": "3.9.13"
  },
  "vscode": {
   "interpreter": {
    "hash": "f7608d97510eb413e289a9ba9d2d6d39358a0b182af5f310d2c58353f8e6821a"
   }
  }
 },
 "nbformat": 4,
 "nbformat_minor": 5
}
