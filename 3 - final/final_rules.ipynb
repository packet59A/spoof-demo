{
 "cells": [
  {
   "cell_type": "code",
   "execution_count": 15,
   "metadata": {},
   "outputs": [],
   "source": [
    "import random\n",
    "import numpy as np\n",
    "\n",
    "def minimax(state, depth, player):\n",
    "    if depth == 0 or state == 0:\n",
    "        return state\n",
    "\n",
    "    if player == 2:\n",
    "        best_value = -float('inf') #float('inf') instead of float(0.0000001) as its cleaner and less typo prone when copying across different parts of the code\n",
    "        for move in range(1, 4):\n",
    "            if state - move >= 1:\n",
    "                value = minimax(state - move, depth - 1, 1)\n",
    "                best_value = max(best_value, value)\n",
    "        return best_value\n",
    "\n",
    "    if player == 1:\n",
    "        best_value = float('inf')\n",
    "        for move in range(1, 4):\n",
    "            if state - move >= 1:\n",
    "                value = minimax(state - move, depth - 1, 2)\n",
    "                best_value = min(best_value, value)\n",
    "        return best_value\n",
    "\n",
    "def minimaxMove(state):\n",
    "    if state > 11:\n",
    "        return 3\n",
    "    \n",
    "    best_score = -float('inf') #float('inf') instead of float(0.0000001) as its cleaner and less typo prone when copying across different parts of the code\n",
    "    best_move = None\n",
    "    for move in range(1, 4):\n",
    "        if state - move >= 1:\n",
    "            score = minimax(state - move, 3, 1)\n",
    "            if score > best_score:\n",
    "                best_score = score\n",
    "                best_move = move\n",
    "    return best_move\n",
    "\n",
    "\n",
    "def rulebasedMove(state):\n",
    "    if state == 2:\n",
    "        return 1\n",
    "    \n",
    "    if state == 3:\n",
    "        return 2\n",
    "\n",
    "    if state == 4:\n",
    "        return 3\n",
    "\n",
    "    if state == 5:\n",
    "        return 1\n",
    "    \n",
    "    if state == 6:\n",
    "        return 1\n",
    "    \n",
    "    if state == 7:\n",
    "        return 2\n",
    "\n",
    "    if state >= 8 and state <= 11:\n",
    "        return 1\n",
    "    \n",
    "    return 3\n",
    "\n",
    "def main(startBoardCoins, simulation, playerSeed):\n",
    "    boardCoins = startBoardCoins\n",
    "    current_player = 1\n",
    "    playerWon = 0\n",
    "    turnCount = 0\n",
    "\n",
    "    random.seed(playerSeed)\n",
    "    \n",
    "    if simulation == False:\n",
    "        print(\"Spoof Game Starting\")\n",
    "        print(\"Starting state:\", boardCoins)\n",
    "\n",
    "    while boardCoins > 1:\n",
    "        turnCount = turnCount + 1\n",
    "\n",
    "        player1Choice = random.randint(1, 3)\n",
    "        if simulation == False:\n",
    "            print(\"[Player 1] Chose:\", player1Choice)\n",
    "        if boardCoins-player1Choice <= 0:\n",
    "            if simulation == False:\n",
    "                print(\"[Player 1] LOST\")\n",
    "            playerWon = 2\n",
    "            break\n",
    "        else:\n",
    "            boardCoins = boardCoins - player1Choice\n",
    "            if simulation == False:\n",
    "                print(\"Board Coins Remaining:\", str(boardCoins)+\"/\"+str(startBoardCoins))\n",
    "\n",
    "        if boardCoins == 1:\n",
    "            if simulation == False:\n",
    "                print(\"[Player 2] LOST\")\n",
    "            playerWon = 1\n",
    "            break\n",
    "\n",
    "        player2Choice = rulebasedMove(boardCoins)\n",
    "        if simulation == False:\n",
    "            print(\"[Player 2] Chose:\", player2Choice)\n",
    "        if boardCoins-player2Choice <= 0:\n",
    "            if simulation == False:\n",
    "                print(\"[Player 2] LOST\")\n",
    "            playerWon = 1\n",
    "            break\n",
    "        else:\n",
    "            boardCoins = boardCoins - player2Choice\n",
    "            if simulation == False:\n",
    "                print(\"Board Coins Remaining:\", str(boardCoins)+\"/\"+str(startBoardCoins))\n",
    "\n",
    "        if boardCoins == 1:\n",
    "            if simulation == False:\n",
    "                print(\"[Player 1] LOST\")\n",
    "            playerWon = 2\n",
    "            break\n",
    "    if simulation == False:\n",
    "        print(\"Rounds Played\", turnCount)\n",
    "    return playerWon, turnCount"
   ]
  },
  {
   "cell_type": "code",
   "execution_count": 21,
   "metadata": {},
   "outputs": [
    {
     "name": "stdout",
     "output_type": "stream",
     "text": [
      "Spoof Game Starting\n",
      "Starting state: 15\n",
      "[Player 1] Chose: 2\n",
      "Board Coins Remaining: 13/15\n",
      "[Player 2] Chose: 3\n",
      "Board Coins Remaining: 10/15\n",
      "[Player 1] Chose: 1\n",
      "Board Coins Remaining: 9/15\n",
      "[Player 2] Chose: 1\n",
      "Board Coins Remaining: 8/15\n",
      "[Player 1] Chose: 2\n",
      "Board Coins Remaining: 6/15\n",
      "[Player 2] Chose: 1\n",
      "Board Coins Remaining: 5/15\n",
      "[Player 1] Chose: 1\n",
      "Board Coins Remaining: 4/15\n",
      "[Player 2] Chose: 3\n",
      "Board Coins Remaining: 1/15\n",
      "[Player 1] LOST\n",
      "Rounds Played 4\n",
      "Player 2 Won the game\n",
      "4 Turns needed to finish the game\n"
     ]
    }
   ],
   "source": [
    "#Remove any seed bias when generating the random amount of coins on the baord\n",
    "playerSeeds = [1, 2, 3, 5, 8, 13, 21, 34, 55, 89, 144]\n",
    "\n",
    "#Choose a random seed from the list (without any set seed)\n",
    "random.seed(None) \n",
    "choosenSeed = random.choice(playerSeeds)\n",
    "\n",
    "boardCoins = random.randint(10, 20)\n",
    "simulation = False\n",
    "\n",
    "playerWon, turnCount = main(boardCoins, simulation, choosenSeed)\n",
    "print(\"Player\", playerWon, \"Won the game\")\n",
    "print(turnCount, \"Turns needed to finish the game\")"
   ]
  },
  {
   "cell_type": "code",
   "execution_count": 22,
   "metadata": {},
   "outputs": [
    {
     "data": {
      "text/html": [
       "<div>\n",
       "<style scoped>\n",
       "    .dataframe tbody tr th:only-of-type {\n",
       "        vertical-align: middle;\n",
       "    }\n",
       "\n",
       "    .dataframe tbody tr th {\n",
       "        vertical-align: top;\n",
       "    }\n",
       "\n",
       "    .dataframe thead th {\n",
       "        text-align: right;\n",
       "    }\n",
       "</style>\n",
       "<table border=\"1\" class=\"dataframe\">\n",
       "  <thead>\n",
       "    <tr style=\"text-align: right;\">\n",
       "      <th></th>\n",
       "      <th>Game</th>\n",
       "      <th>Player</th>\n",
       "      <th>Rounds</th>\n",
       "    </tr>\n",
       "  </thead>\n",
       "  <tbody>\n",
       "    <tr>\n",
       "      <th>0</th>\n",
       "      <td>1</td>\n",
       "      <td>2</td>\n",
       "      <td>101</td>\n",
       "    </tr>\n",
       "    <tr>\n",
       "      <th>1</th>\n",
       "      <td>2</td>\n",
       "      <td>2</td>\n",
       "      <td>101</td>\n",
       "    </tr>\n",
       "    <tr>\n",
       "      <th>2</th>\n",
       "      <td>3</td>\n",
       "      <td>2</td>\n",
       "      <td>98</td>\n",
       "    </tr>\n",
       "    <tr>\n",
       "      <th>3</th>\n",
       "      <td>4</td>\n",
       "      <td>2</td>\n",
       "      <td>98</td>\n",
       "    </tr>\n",
       "    <tr>\n",
       "      <th>4</th>\n",
       "      <td>5</td>\n",
       "      <td>2</td>\n",
       "      <td>100</td>\n",
       "    </tr>\n",
       "    <tr>\n",
       "      <th>...</th>\n",
       "      <td>...</td>\n",
       "      <td>...</td>\n",
       "      <td>...</td>\n",
       "    </tr>\n",
       "    <tr>\n",
       "      <th>4995</th>\n",
       "      <td>4996</td>\n",
       "      <td>2</td>\n",
       "      <td>102</td>\n",
       "    </tr>\n",
       "    <tr>\n",
       "      <th>4996</th>\n",
       "      <td>4997</td>\n",
       "      <td>2</td>\n",
       "      <td>100</td>\n",
       "    </tr>\n",
       "    <tr>\n",
       "      <th>4997</th>\n",
       "      <td>4998</td>\n",
       "      <td>2</td>\n",
       "      <td>98</td>\n",
       "    </tr>\n",
       "    <tr>\n",
       "      <th>4998</th>\n",
       "      <td>4999</td>\n",
       "      <td>2</td>\n",
       "      <td>103</td>\n",
       "    </tr>\n",
       "    <tr>\n",
       "      <th>4999</th>\n",
       "      <td>5000</td>\n",
       "      <td>2</td>\n",
       "      <td>102</td>\n",
       "    </tr>\n",
       "  </tbody>\n",
       "</table>\n",
       "<p>5000 rows × 3 columns</p>\n",
       "</div>"
      ],
      "text/plain": [
       "      Game  Player  Rounds\n",
       "0        1       2     101\n",
       "1        2       2     101\n",
       "2        3       2      98\n",
       "3        4       2      98\n",
       "4        5       2     100\n",
       "...    ...     ...     ...\n",
       "4995  4996       2     102\n",
       "4996  4997       2     100\n",
       "4997  4998       2      98\n",
       "4998  4999       2     103\n",
       "4999  5000       2     102\n",
       "\n",
       "[5000 rows x 3 columns]"
      ]
     },
     "execution_count": 22,
     "metadata": {},
     "output_type": "execute_result"
    }
   ],
   "source": [
    "# Importing Pandas to create DataFrame\n",
    "import pandas as pd\n",
    "import numpy as np\n",
    "\n",
    "#Create a dataframe with the specified columns\n",
    "df = pd.DataFrame(columns=['Game', 'Player', 'Rounds'])\n",
    "\n",
    "#Lets run 100 games \n",
    "for i in range(5000):\n",
    "    i = i + 1\n",
    "\n",
    "    boardCoins = 500\n",
    "    playerSeeds = [1, 2, 3, 5, 8, 13, 21, 34, 55, 89, 144]\n",
    "\n",
    "    random.seed(None) \n",
    "    choosenSeed = random.choice(playerSeeds)\n",
    "    playerWon, turnCount = main(boardCoins, True, choosenSeed)\n",
    "    df = df.append({'Game': int(i),'Player': int(playerWon), 'Rounds': int(turnCount)}, ignore_index=True)\n",
    "\n",
    "df['Game'] = df['Game'].astype(int)\n",
    "df['Player'] = df['Player'].astype(int)\n",
    "df['Rounds'] = df['Rounds'].astype(int)\n",
    "#df.dtypes \n",
    "\n",
    "df"
   ]
  },
  {
   "cell_type": "code",
   "execution_count": 23,
   "metadata": {},
   "outputs": [
    {
     "data": {
      "text/plain": [
       "2    100.0\n",
       "Name: Player, dtype: float64"
      ]
     },
     "execution_count": 23,
     "metadata": {},
     "output_type": "execute_result"
    }
   ],
   "source": [
    "df['Player'].value_counts(normalize=True) * 100"
   ]
  },
  {
   "cell_type": "code",
   "execution_count": 24,
   "metadata": {},
   "outputs": [
    {
     "data": {
      "image/png": "[encoded data removed]",
      "text/plain": [
       "<Figure size 460.8x345.6 with 1 Axes>"
      ]
     },
     "metadata": {
      "needs_background": "light"
     },
     "output_type": "display_data"
    }
   ],
   "source": [
    "import matplotlib.pyplot as plt\n",
    "#plt.rcParams[\"figure.figsize\"] = (20,10)\n",
    "#Reset custom plot size\n",
    "plt.rcParams[\"figure.figsize\"] = plt.rcParamsDefault[\"figure.figsize\"]\n",
    "\n",
    "df2 = df\n",
    "df2.plot(x='Game', y='Rounds')\n",
    "plt.show()\n",
    "\n",
    "#The data is very hard to read and we could just make the graph output bigger on the X axis"
   ]
  },
  {
   "cell_type": "code",
   "execution_count": 25,
   "metadata": {},
   "outputs": [
    {
     "data": {
      "image/png": "[encoded data removed]",
      "text/plain": [
       "<Figure size 460.8x345.6 with 2 Axes>"
      ]
     },
     "metadata": {
      "needs_background": "light"
     },
     "output_type": "display_data"
    }
   ],
   "source": [
    "#Using hexbin it allows us to view the distribution of the amount of rounds played for each game\n",
    "df.plot.hexbin(x=\"Game\", y=\"Rounds\", gridsize=25);"
   ]
  },
  {
   "cell_type": "code",
   "execution_count": 26,
   "metadata": {},
   "outputs": [
    {
     "data": {
      "text/plain": [
       "<AxesSubplot:>"
      ]
     },
     "execution_count": 26,
     "metadata": {},
     "output_type": "execute_result"
    },
    {
     "data": {
      "image/png": "[encoded data removed]",
      "text/plain": [
       "<Figure size 460.8x345.6 with 1 Axes>"
      ]
     },
     "metadata": {
      "needs_background": "light"
     },
     "output_type": "display_data"
    }
   ],
   "source": [
    "#We could also use box plots to view this data\n",
    "dfRounds = df[[\"Rounds\"]]\n",
    "dfRounds.plot.box()"
   ]
  },
  {
   "cell_type": "markdown",
   "metadata": {},
   "source": [
    "#### Visualizing the efficiency of the bot:\n",
    "To see the visualize the performance of our bot we will generate a random amount of coins from 10-500 and see how many rounds it takes to solve.\n",
    "If our bot is efficient we should see a \"straight\" positive trend line"
   ]
  },
  {
   "cell_type": "code",
   "execution_count": 28,
   "metadata": {},
   "outputs": [
    {
     "data": {
      "image/png": "[encoded data removed]",
      "text/plain": [
       "<Figure size 460.8x345.6 with 1 Axes>"
      ]
     },
     "metadata": {
      "needs_background": "light"
     },
     "output_type": "display_data"
    }
   ],
   "source": [
    "# Importing Pandas to create DataFrame\n",
    "import pandas as pd\n",
    "import numpy as np\n",
    "\n",
    "#Create a dataframe with the specified columns\n",
    "df3 = pd.DataFrame(columns=['Game', 'Player', 'Rounds', 'Coins'])\n",
    "\n",
    "#Lets run 1000 games \n",
    "for i in range(1000):\n",
    "    i = i + 1\n",
    "\n",
    "    playerSeeds = [1, 2, 3, 5, 8, 13, 21, 34, 55, 89, 144]\n",
    "    random.seed(None)\n",
    "    \n",
    "    boardCoins = random.randint(10, 500)\n",
    "    choosenSeed = random.choice(playerSeeds)\n",
    "    playerWon, turnCount = main(boardCoins, True, choosenSeed)\n",
    "    df3 = df3.append({'Game': int(i),'Player': int(playerWon), 'Rounds': int(turnCount), 'Coins': boardCoins}, ignore_index=True)\n",
    "\n",
    "df3['Game'] = df3['Game'].astype(int)\n",
    "df3['Player'] = df3['Player'].astype(int)\n",
    "df3['Rounds'] = df3['Rounds'].astype(int)\n",
    "df3['Coins'] = df3['Coins'].astype(int)\n",
    "\n",
    "df3.plot(x='Coins', y='Rounds')\n",
    "plt.show()"
   ]
  },
  {
   "cell_type": "code",
   "execution_count": null,
   "metadata": {},
   "outputs": [],
   "source": []
  }
 ],
 "metadata": {
  "kernelspec": {
   "display_name": "Python 3 (ipykernel)",
   "language": "python",
   "name": "python3"
  },
  "language_info": {
   "codemirror_mode": {
    "name": "ipython",
    "version": 3
   },
   "file_extension": ".py",
   "mimetype": "text/x-python",
   "name": "python",
   "nbconvert_exporter": "python",
   "pygments_lexer": "ipython3",
   "version": "3.7.6"
  },
  "vscode": {
   "interpreter": {
    "hash": "f7608d97510eb413e289a9ba9d2d6d39358a0b182af5f310d2c58353f8e6821a"
   }
  }
 },
 "nbformat": 4,
 "nbformat_minor": 2
}
