{
 "cells": [
  {
   "cell_type": "code",
   "execution_count": 2,
   "metadata": {},
   "outputs": [],
   "source": [
    "import time\n",
    "import random\n",
    "from IPython.display import clear_output\n",
    "\n",
    "#Default Values\n",
    "player1Coins, player2Coins, boardCoins  = 0, 0, 0\n",
    "\n",
    "turnCoinLimit = 3\n",
    "\n",
    "#To see the efficiency of the bot we need to try out a large amount of coins to easily see the difference\n",
    "#Player 1 will be using a random number of coins\n",
    "#Player 2 will be our ruled based bot\n",
    "startBoardCoins = 500\n",
    "\n",
    "#We will use this to turn off most of the outputs in the game\n",
    "simulation = True "
   ]
  },
  {
   "cell_type": "code",
   "execution_count": 3,
   "metadata": {},
   "outputs": [],
   "source": [
    "#Advanced Player Choices \n",
    "#The rules here are for the most efficient way to get to the end of the game and try win with some strategy in mind\n",
    "#Since we don't expect the rules of the game to change we can make some more strict rules for the bot to follow\n",
    "\n",
    "def baselineThinking(boardCoins, turnCoinLimit):\n",
    "    \n",
    "    # If we don't want to take forever for this game to finish we can just return 3 if the amount of coins left is large\n",
    "    if boardCoins // turnCoinLimit > 3:\n",
    "        return 3\n",
    "\n",
    "    # If there are 1, 2, or 3 coins left, take them all to win the game\n",
    "    if boardCoins == 2 or boardCoins == 3:\n",
    "        return boardCoins-1\n",
    "\n",
    "    # If there are 4 coins left, take 3 coins to leave 1 for the next player and make them lose the game\n",
    "    if boardCoins == 4:\n",
    "        return 3\n",
    "\n",
    "    # If there are 5 coins left, take 1 coin, if the next player isn't smart they wwon't take 3 and win the game\n",
    "    if boardCoins == 5:\n",
    "        return 1\n",
    "\n",
    "    # For anything else we didn't account for just return a random value\n",
    "    return random.randint(1, 3)\n",
    "\n",
    "def main(player1Coins, player2Coins, boardCoins, startBoardCoins, simulation):\n",
    "    boardCoins = startBoardCoins\n",
    "    playerWon = 0\n",
    "    turnCount = 0\n",
    "\n",
    "    if simulation == False:\n",
    "        print(\"\\n\")\n",
    "        print(\"Spoof Game Starting\")\n",
    "        print(\"Board Coins:\", str(boardCoins))\n",
    "        print(\"\\n\")\n",
    "    \n",
    "    while boardCoins > 1:\n",
    "    #for i in range(5):\n",
    "        #Increase turn counter\n",
    "        turnCount = turnCount + 1\n",
    "        #Announce Round Start\n",
    "        if simulation == False:\n",
    "            print(\"[Round\", str(turnCount)+\"] Started\")\n",
    "        \n",
    "        \n",
    "        player1Choice = random.randint(1, turnCoinLimit)\n",
    "        if simulation == False:\n",
    "            print(\"[Player 1] Chose:\", player1Choice)\n",
    "        if boardCoins-player1Choice <= 0:\n",
    "            if simulation == False:\n",
    "                print(\"[Player 1] LOST\")\n",
    "            playerWon = 2\n",
    "            break\n",
    "        else:\n",
    "            boardCoins =boardCoins-player1Choice\n",
    "            if simulation == False:\n",
    "                print(\"Board Coins Remaining:\", str(boardCoins)+\"/\"+str(startBoardCoins))\n",
    "        \n",
    "        #End game since there is no option left other than draw 1\n",
    "        if boardCoins == 1:\n",
    "            if simulation == False:\n",
    "                print(\"[Player 2] LOST\")\n",
    "            playerWon = 1\n",
    "            break\n",
    "        \n",
    "        \n",
    "        player2Choice = baselineThinking(boardCoins, turnCoinLimit)\n",
    "        if simulation == False:\n",
    "            print(\"[Player 2] Chose:\", player2Choice)\n",
    "        if boardCoins-player2Choice <= 0:\n",
    "            if simulation == False:\n",
    "                print(\"[Player 2] LOST\")\n",
    "            playerWon = 1\n",
    "            break\n",
    "        else:\n",
    "            boardCoins =boardCoins-player2Choice\n",
    "            if simulation == False:\n",
    "                print(\"Board Coins Remaining:\", str(boardCoins)+\"/\"+str(startBoardCoins))\n",
    "            \n",
    "        #End game since there is no option left other than draw 1\n",
    "        if boardCoins == 1:\n",
    "            if simulation == False:\n",
    "                print(\"[Player 1] LOST\")\n",
    "            playerWon = 2\n",
    "            break\n",
    "\n",
    "        #Announce Round End\n",
    "        #print(\"[Round\", str(turnCount)+\"] Ended\")\n",
    "    \n",
    "    if simulation == False:\n",
    "        print(\"\\n\")\n",
    "        print(\"\\n\")\n",
    "        print(\"Rounds Taken:\", str(turnCount))\n",
    "        print(\"Board Coins:\", str(boardCoins)+\"/\"+str(startBoardCoins))\n",
    "    return playerWon, turnCount"
   ]
  },
  {
   "cell_type": "code",
   "execution_count": 4,
   "metadata": {},
   "outputs": [
    {
     "name": "stdout",
     "output_type": "stream",
     "text": [
      "P2\n",
      "104\n"
     ]
    }
   ],
   "source": [
    "playerWon, turnCount = main(player1Coins, player2Coins, boardCoins, startBoardCoins, simulation)\n",
    "print(\"P\"+str(playerWon))\n",
    "print(turnCount)"
   ]
  },
  {
   "cell_type": "markdown",
   "metadata": {},
   "source": [
    "#### Next Steps:\n",
    "- We want to be simulating games to see the effectiveness of the AI BOT (Player 2)\n",
    "\n",
    "#### How do we store this data?\n",
    "- We could store it in a list but we are not storing only the amount of rounds but also the player that has won the game as we want to measure the % of games won and the total number of rounds taken for each game. So we will be using pandas dataframes to store this 2d dataframe as it will allow us to more easily analyse the data."
   ]
  },
  {
   "cell_type": "markdown",
   "metadata": {},
   "source": []
  },
  {
   "cell_type": "code",
   "execution_count": 5,
   "metadata": {},
   "outputs": [
    {
     "data": {
      "text/html": [
       "<div>\n",
       "<style scoped>\n",
       "    .dataframe tbody tr th:only-of-type {\n",
       "        vertical-align: middle;\n",
       "    }\n",
       "\n",
       "    .dataframe tbody tr th {\n",
       "        vertical-align: top;\n",
       "    }\n",
       "\n",
       "    .dataframe thead th {\n",
       "        text-align: right;\n",
       "    }\n",
       "</style>\n",
       "<table border=\"1\" class=\"dataframe\">\n",
       "  <thead>\n",
       "    <tr style=\"text-align: right;\">\n",
       "      <th></th>\n",
       "      <th>Game</th>\n",
       "      <th>Player</th>\n",
       "      <th>Rounds</th>\n",
       "    </tr>\n",
       "  </thead>\n",
       "  <tbody>\n",
       "    <tr>\n",
       "      <th>0</th>\n",
       "      <td>1</td>\n",
       "      <td>2</td>\n",
       "      <td>100</td>\n",
       "    </tr>\n",
       "    <tr>\n",
       "      <th>1</th>\n",
       "      <td>2</td>\n",
       "      <td>2</td>\n",
       "      <td>102</td>\n",
       "    </tr>\n",
       "    <tr>\n",
       "      <th>2</th>\n",
       "      <td>3</td>\n",
       "      <td>2</td>\n",
       "      <td>102</td>\n",
       "    </tr>\n",
       "    <tr>\n",
       "      <th>3</th>\n",
       "      <td>4</td>\n",
       "      <td>2</td>\n",
       "      <td>102</td>\n",
       "    </tr>\n",
       "    <tr>\n",
       "      <th>4</th>\n",
       "      <td>5</td>\n",
       "      <td>2</td>\n",
       "      <td>101</td>\n",
       "    </tr>\n",
       "    <tr>\n",
       "      <th>...</th>\n",
       "      <td>...</td>\n",
       "      <td>...</td>\n",
       "      <td>...</td>\n",
       "    </tr>\n",
       "    <tr>\n",
       "      <th>4995</th>\n",
       "      <td>4996</td>\n",
       "      <td>2</td>\n",
       "      <td>101</td>\n",
       "    </tr>\n",
       "    <tr>\n",
       "      <th>4996</th>\n",
       "      <td>4997</td>\n",
       "      <td>2</td>\n",
       "      <td>104</td>\n",
       "    </tr>\n",
       "    <tr>\n",
       "      <th>4997</th>\n",
       "      <td>4998</td>\n",
       "      <td>2</td>\n",
       "      <td>101</td>\n",
       "    </tr>\n",
       "    <tr>\n",
       "      <th>4998</th>\n",
       "      <td>4999</td>\n",
       "      <td>1</td>\n",
       "      <td>98</td>\n",
       "    </tr>\n",
       "    <tr>\n",
       "      <th>4999</th>\n",
       "      <td>5000</td>\n",
       "      <td>2</td>\n",
       "      <td>98</td>\n",
       "    </tr>\n",
       "  </tbody>\n",
       "</table>\n",
       "<p>5000 rows × 3 columns</p>\n",
       "</div>"
      ],
      "text/plain": [
       "      Game  Player  Rounds\n",
       "0        1       2     100\n",
       "1        2       2     102\n",
       "2        3       2     102\n",
       "3        4       2     102\n",
       "4        5       2     101\n",
       "...    ...     ...     ...\n",
       "4995  4996       2     101\n",
       "4996  4997       2     104\n",
       "4997  4998       2     101\n",
       "4998  4999       1      98\n",
       "4999  5000       2      98\n",
       "\n",
       "[5000 rows x 3 columns]"
      ]
     },
     "execution_count": 5,
     "metadata": {},
     "output_type": "execute_result"
    }
   ],
   "source": [
    "# Importing Pandas to create DataFrame\n",
    "import pandas as pd\n",
    "import numpy as np\n",
    "\n",
    "#Create a dataframe with the specified columns\n",
    "df = pd.DataFrame(columns=['Game', 'Player', 'Rounds'])\n",
    "\n",
    "#Lets run 100 games \n",
    "for i in range(5000):\n",
    "    i = i + 1\n",
    "\n",
    "    playerWon, turnCount = main(player1Coins, player2Coins, boardCoins, startBoardCoins, simulation)\n",
    "    df = df.append({'Game': int(i),'Player': int(playerWon), 'Rounds': int(turnCount)}, ignore_index=True)\n",
    "\n",
    "df['Game'] = df['Game'].astype(int)\n",
    "df['Player'] = df['Player'].astype(int)\n",
    "df['Rounds'] = df['Rounds'].astype(int)\n",
    "#df.dtypes \n",
    "\n",
    "df\n"
   ]
  },
  {
   "cell_type": "code",
   "execution_count": 6,
   "metadata": {},
   "outputs": [
    {
     "data": {
      "text/plain": [
       "2    83.22\n",
       "1    16.78\n",
       "Name: Player, dtype: float64"
      ]
     },
     "execution_count": 6,
     "metadata": {},
     "output_type": "execute_result"
    }
   ],
   "source": [
    "df['Player'].value_counts(normalize=True) * 100"
   ]
  },
  {
   "cell_type": "code",
   "execution_count": 230,
   "metadata": {},
   "outputs": [
    {
     "data": {
      "image/png": "[encoded data removed]",
      "text/plain": [
       "<Figure size 460.8x345.6 with 1 Axes>"
      ]
     },
     "metadata": {
      "needs_background": "light"
     },
     "output_type": "display_data"
    }
   ],
   "source": [
    "import matplotlib.pyplot as plt\n",
    "#plt.rcParams[\"figure.figsize\"] = (20,10)\n",
    "#Reset custom plot size\n",
    "plt.rcParams[\"figure.figsize\"] = plt.rcParamsDefault[\"figure.figsize\"]\n",
    "\n",
    "df2 = df\n",
    "df2.plot(x='Game', y='Rounds')\n",
    "plt.show()\n",
    "\n",
    "#The data is very hard to read and we could just make the graph output bigger on the X axis"
   ]
  },
  {
   "cell_type": "code",
   "execution_count": 211,
   "metadata": {},
   "outputs": [
    {
     "data": {
      "image/png": "[encoded data removed]",
      "text/plain": [
       "<Figure size 460.8x345.6 with 2 Axes>"
      ]
     },
     "metadata": {
      "needs_background": "light"
     },
     "output_type": "display_data"
    }
   ],
   "source": [
    "#Using hexbin it allows us to view the distribution of the amount of rounds played for each game\n",
    "df.plot.hexbin(x=\"Game\", y=\"Rounds\", gridsize=25);"
   ]
  },
  {
   "cell_type": "code",
   "execution_count": 212,
   "metadata": {},
   "outputs": [
    {
     "data": {
      "text/plain": [
       "<AxesSubplot:>"
      ]
     },
     "execution_count": 212,
     "metadata": {},
     "output_type": "execute_result"
    },
    {
     "data": {
      "image/png": "[encoded data removed]",
      "text/plain": [
       "<Figure size 460.8x345.6 with 1 Axes>"
      ]
     },
     "metadata": {
      "needs_background": "light"
     },
     "output_type": "display_data"
    }
   ],
   "source": [
    "#We could also use box plots to view this data\n",
    "dfRounds = df[[\"Rounds\"]]\n",
    "dfRounds.plot.box()"
   ]
  }
 ],
 "metadata": {
  "kernelspec": {
   "display_name": "Python 3.7.6 64-bit",
   "language": "python",
   "name": "python3"
  },
  "language_info": {
   "codemirror_mode": {
    "name": "ipython",
    "version": 3
   },
   "file_extension": ".py",
   "mimetype": "text/x-python",
   "name": "python",
   "nbconvert_exporter": "python",
   "pygments_lexer": "ipython3",
   "version": "3.7.6"
  },
  "orig_nbformat": 4,
  "vscode": {
   "interpreter": {
    "hash": "f7608d97510eb413e289a9ba9d2d6d39358a0b182af5f310d2c58353f8e6821a"
   }
  }
 },
 "nbformat": 4,
 "nbformat_minor": 2
}
