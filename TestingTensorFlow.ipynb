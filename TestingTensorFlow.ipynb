{
 "cells": [
  {
   "cell_type": "code",
   "execution_count": 1,
   "id": "6e671d74",
   "metadata": {},
   "outputs": [
    {
     "name": "stdout",
     "output_type": "stream",
     "text": [
      "CPU tf.random_uniform: 10.149145126342773 seconds\n",
      "GPU tf.random_uniform: 0.7989428043365479 seconds\n"
     ]
    }
   ],
   "source": [
    "import tensorflow as tf\n",
    "import time\n",
    "#from tensorflow.python.client import device_lib\n",
    "#device_lib.list_local_devices()\n",
    "\n",
    "with tf.device('/CPU:0'):\n",
    "    tf.random.set_seed(5)\n",
    "\n",
    "    t = time.time()\n",
    "    for i in range(1000):\n",
    "        a = tf.random.uniform((1000,2000),dtype=tf.float64);\n",
    "    print(\"CPU tf.random_uniform: {} seconds\".format(time.time() - t))\n",
    "    \n",
    "with tf.device('/GPU:0'):\n",
    "    tf.random.set_seed(5)\n",
    "\n",
    "    t = time.time()\n",
    "    for i in range(1000):\n",
    "        a = tf.random.uniform((1000,2000),dtype=tf.float64);\n",
    "    print(\"GPU tf.random_uniform: {} seconds\".format(time.time() - t))"
   ]
  },
  {
   "cell_type": "code",
   "execution_count": 3,
   "id": "4324f4d2",
   "metadata": {},
   "outputs": [
    {
     "name": "stdout",
     "output_type": "stream",
     "text": [
      "1\n",
      "3\n",
      "3\n",
      "2\n",
      "1\n"
     ]
    }
   ],
   "source": [
    "def number(_):\n",
    "    noise = tf.random.uniform(shape=(), minval=1, maxval=4)\n",
    "    return int(noise)\n",
    "\n",
    "dataset = tf.data.Dataset.from_tensor_slices(list(range(100)))\n",
    "dataset = dataset.map(number)\n",
    "for label in dataset.take(5):\n",
    "    print(label.numpy())"
   ]
  },
  {
   "cell_type": "code",
   "execution_count": 6,
   "id": "90ca90fe",
   "metadata": {},
   "outputs": [
    {
     "name": "stdout",
     "output_type": "stream",
     "text": [
      "Num GPUs Available:  1\n"
     ]
    }
   ],
   "source": [
    "print(\"Num GPUs Available: \", len(tf.config.list_physical_devices('GPU')))"
   ]
  },
  {
   "cell_type": "code",
   "execution_count": 8,
   "id": "9477cfeb",
   "metadata": {},
   "outputs": [
    {
     "data": {
      "text/plain": [
       "True"
      ]
     },
     "execution_count": 8,
     "metadata": {},
     "output_type": "execute_result"
    }
   ],
   "source": [
    "tf.test.gpu_device_name()\n",
    "#tf.test.is_gpu_available()"
   ]
  },
  {
   "cell_type": "code",
   "execution_count": 9,
   "id": "15860ebc",
   "metadata": {},
   "outputs": [
    {
     "data": {
      "text/plain": [
       "[name: \"/device:CPU:0\"\n",
       " device_type: \"CPU\"\n",
       " memory_limit: 268435456\n",
       " locality {\n",
       " }\n",
       " incarnation: 13111180135080641137\n",
       " xla_global_id: -1,\n",
       " name: \"/device:GPU:0\"\n",
       " device_type: \"GPU\"\n",
       " memory_limit: 14053015552\n",
       " locality {\n",
       "   bus_id: 1\n",
       "   links {\n",
       "   }\n",
       " }\n",
       " incarnation: 2923535429527902622\n",
       " physical_device_desc: \"device: 0, name: NVIDIA GeForce RTX 4080, pci bus id: 0000:09:00.0, compute capability: 8.9\"\n",
       " xla_global_id: 416903419]"
      ]
     },
     "execution_count": 9,
     "metadata": {},
     "output_type": "execute_result"
    }
   ],
   "source": [
    "from tensorflow.python.client import device_lib\n",
    "\n",
    "device_lib.list_local_devices()"
   ]
  },
  {
   "cell_type": "code",
   "execution_count": 10,
   "id": "a28d4e35",
   "metadata": {},
   "outputs": [],
   "source": [
    "gpus = tf.config.list_physical_devices('GPU')\n",
    "gpu_id = 0\n",
    "if gpus:\n",
    "    # Restrict TensorFlow to only use only one GPU based on gpu_id\n",
    "    try:\n",
    "        tf.config.set_visible_devices(gpus[gpu_id], 'GPU')\n",
    "        logical_gpus = tf.config.list_logical_devices('GPU')\n",
    "        print(len(gpus), \"Physical GPUs,\", len(logical_gpus), \"Logical GPU\")\n",
    "    except RuntimeError as e:\n",
    "        # Visible devices must be set before GPUs have been initialized\n",
    "        print(e)"
   ]
  },
  {
   "cell_type": "code",
   "execution_count": null,
   "id": "dd7774ad",
   "metadata": {},
   "outputs": [],
   "source": []
  }
 ],
 "metadata": {
  "kernelspec": {
   "display_name": "Python 3.7.6 64-bit",
   "language": "python",
   "name": "python3"
  },
  "language_info": {
   "codemirror_mode": {
    "name": "ipython",
    "version": 3
   },
   "file_extension": ".py",
   "mimetype": "text/x-python",
   "name": "python",
   "nbconvert_exporter": "python",
   "pygments_lexer": "ipython3",
   "version": "3.7.6"
  },
  "vscode": {
   "interpreter": {
    "hash": "f7608d97510eb413e289a9ba9d2d6d39358a0b182af5f310d2c58353f8e6821a"
   }
  }
 },
 "nbformat": 4,
 "nbformat_minor": 5
}
