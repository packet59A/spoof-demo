{
 "cells": [
  {
   "cell_type": "code",
   "execution_count": 2,
   "metadata": {},
   "outputs": [],
   "source": [
    "import time\n",
    "import random\n",
    "\n",
    "#Default Values\n",
    "player1Coins, player2Coins, boardCoins, turnCount  = 0, 0, 0, 0\n",
    "\n",
    "turnCoinLimit = 3"
   ]
  },
  {
   "cell_type": "code",
   "execution_count": 3,
   "metadata": {},
   "outputs": [
    {
     "name": "stdout",
     "output_type": "stream",
     "text": [
      "Spoof Game Starting\n",
      "Board Coins: 7\n",
      "\n",
      "\n",
      "[Round 1] Started\n",
      "[Player 1] Chose: 1\n",
      "Board Coins Remaining: 6\n",
      "[Player 2] Chose: 1\n",
      "Board Coins Remaining: 5\n",
      "\n",
      "\n",
      "[Round 2] Started\n",
      "[Player 1] Chose: 3\n",
      "Board Coins Remaining: 2\n",
      "[Player 2] Chose: 1\n",
      "Board Coins Remaining: 1\n",
      "\n",
      "\n",
      "[Round 3] Started\n",
      "[Player 1] Chose: 3\n",
      "[Player 1] LOST\n",
      "Finished Board Coins Remaining: 1\n"
     ]
    }
   ],
   "source": [
    "#Simple Random Player Choices\n",
    "def main(player1Coins, player2Coins, boardCoins, turnCount):\n",
    "    #Start with a random amount of coins on the board\n",
    "    boardCoins = random.randint(4, 30)\n",
    "    print(\"Spoof Game Starting\")\n",
    "    print(\"Board Coins:\", str(boardCoins))\n",
    "    print(\"\\n\")\n",
    "    \n",
    "    while boardCoins > 0:\n",
    "        #Increase turn counter\n",
    "        turnCount = turnCount + 1\n",
    "        #Announce Round Start\n",
    "        print(\"[Round\", str(turnCount)+\"] Started\")\n",
    "        \n",
    "        \n",
    "        player1Choice = random.randint(1, 3)\n",
    "        print(\"[Player 1] Chose:\", player1Choice)\n",
    "        if boardCoins-player1Choice <= 0:\n",
    "            print(\"[Player 1] LOST\")\n",
    "            break\n",
    "        else:\n",
    "            boardCoins =boardCoins-player1Choice\n",
    "            print(\"Board Coins Remaining:\", str(boardCoins))\n",
    "            \n",
    "\n",
    "        \n",
    "        \n",
    "        player2Choice = random.randint(1, 3)\n",
    "        print(\"[Player 2] Chose:\", player2Choice)\n",
    "        if boardCoins-player2Choice <= 0:\n",
    "            print(\"[Player 2] LOST\")\n",
    "            break\n",
    "        else:\n",
    "            boardCoins =boardCoins-player2Choice\n",
    "            print(\"Board Coins Remaining:\", str(boardCoins))\n",
    "        #Announce Round End\n",
    "        #print(\"[Round\", str(turnCount)+\"] Ended\")\n",
    "        print(\"\\n\")\n",
    "    print(\"Finished Board Coins Remaining:\", str(boardCoins))\n",
    "    \n",
    "main(player1Coins, player2Coins, boardCoins, turnCount)"
   ]
  },
  {
   "cell_type": "code",
   "execution_count": null,
   "metadata": {},
   "outputs": [],
   "source": []
  }
 ],
 "metadata": {
  "kernelspec": {
   "display_name": "Python 3.7.6 64-bit",
   "language": "python",
   "name": "python3"
  },
  "language_info": {
   "codemirror_mode": {
    "name": "ipython",
    "version": 3
   },
   "file_extension": ".py",
   "mimetype": "text/x-python",
   "name": "python",
   "nbconvert_exporter": "python",
   "pygments_lexer": "ipython3",
   "version": "3.7.6"
  },
  "orig_nbformat": 4,
  "vscode": {
   "interpreter": {
    "hash": "f7608d97510eb413e289a9ba9d2d6d39358a0b182af5f310d2c58353f8e6821a"
   }
  }
 },
 "nbformat": 4,
 "nbformat_minor": 2
}
